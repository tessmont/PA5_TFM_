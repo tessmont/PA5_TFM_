{
 "cells": [
  {
   "cell_type": "markdown",
   "id": "1e9a3cca",
   "metadata": {},
   "source": [
    "## Tess Montgomery"
   ]
  },
  {
   "cell_type": "markdown",
   "id": "38a1d2b8",
   "metadata": {},
   "source": [
    "## PA 5 - Fall 2023"
   ]
  },
  {
   "cell_type": "markdown",
   "id": "74cee54d",
   "metadata": {},
   "source": [
    "### Task 1: Language Translater"
   ]
  },
  {
   "cell_type": "code",
   "execution_count": 11,
   "id": "f20152a2",
   "metadata": {},
   "outputs": [
    {
     "name": "stdout",
     "output_type": "stream",
     "text": [
      "{'couch': '', 'chair': 'cathaoir', 'cat': '', 'dog': ''}\n"
     ]
    }
   ],
   "source": [
    "data={}\n",
    "data={'couch':'', 'chair':'cathaoir', 'cat':'', 'dog':''}\n",
    "print(data)"
   ]
  },
  {
   "cell_type": "code",
   "execution_count": 12,
   "id": "e56701ce",
   "metadata": {},
   "outputs": [
    {
     "name": "stdout",
     "output_type": "stream",
     "text": [
      "Enter a word to translate from English to Irish (enter 0 to stop)couch\n",
      "The Irish word for COUCH is outside this dictionary.\n",
      "Enter a word to translate from English to Irish (enter 0 to stop)chair\n",
      "The Irish word for chair is CATHAOIR.\n",
      "Enter a word to translate from English to Irish (enter 0 to stop)cat\n",
      "The Irish word for CAT is not in this dictionary.\n",
      "Enter a word to translate from English to Irish (enter 0 to stop)dog\n",
      "The Irish word for DOG is not in this dictionary.\n",
      "Enter a word to translate from English to Irish (enter 0 to stop)0\n"
     ]
    }
   ],
   "source": [
    "prompt=\"Enter a word to translate from English to Irish (enter 0 to stop)\"\n",
    "while True:\n",
    "    English = input(prompt)\n",
    "    if English == '0':\n",
    "        break\n",
    "    elif English == 'couch':\n",
    "        print(\"The Irish word for COUCH is outside this dictionary.\")\n",
    "    elif English == 'chair':\n",
    "        print(\"The Irish word for chair is CATHAOIR.\")\n",
    "    elif English == 'cat':\n",
    "        print(\"The Irish word for CAT is not in this dictionary.\")\n",
    "    elif English == 'dog':\n",
    "        print(\"The Irish word for DOG is not in this dictionary.\")\n",
    "    else:\n",
    "        print(\"0\") "
   ]
  },
  {
   "cell_type": "markdown",
   "id": "e09ac46d",
   "metadata": {},
   "source": [
    "### Task 2: Temperature converter"
   ]
  },
  {
   "cell_type": "code",
   "execution_count": 53,
   "id": "9b552952",
   "metadata": {},
   "outputs": [
    {
     "name": "stdout",
     "output_type": "stream",
     "text": [
      "{'Day26:87', 'Day11:84', 'Day22:85', 'Day29:82', 'Day30:83', 'Day15:79', 'Day1:85', 'Day10:80', 'Day6:81', 'Day8:80', 'Day2:88', 'Day27:78', 'Day7:76', 'Day23:81', 'Day18:77', 'Day19:79', 'Day28:79', 'Day3:88', 'Day24:82', 'Day12:76', 'Day21:83', 'Day17:77', 'Day20:84', 'Day14:79', 'Day13:78', 'Day9:79', 'Day25:84', 'Day4:89', 'Day16:79', 'Day5:87'}\n"
     ]
    }
   ],
   "source": [
    "temp_dict={}\n",
    "temp_dict={'Day1:85','Day2:88','Day3:88','Day4:89','Day5:87','Day6:81','Day7:76','Day8:80','Day9:79','Day10:80','Day11:84','Day12:76','Day13:78','Day14:79','Day15:79','Day16:79','Day17:77','Day18:77','Day19:79','Day20:84','Day21:83','Day22:85','Day23:81','Day24:82','Day25:84','Day26:87','Day27:78','Day28:79','Day29:82','Day30:83'}\n",
    "print(temp_dict)"
   ]
  },
  {
   "cell_type": "code",
   "execution_count": 13,
   "id": "60556952",
   "metadata": {},
   "outputs": [
    {
     "name": "stdout",
     "output_type": "stream",
     "text": [
      "85\n",
      "88\n",
      "88\n",
      "89\n",
      "87\n",
      "81\n",
      "76\n",
      "80\n",
      "79\n",
      "80\n",
      "84\n",
      "76\n",
      "78\n",
      "79\n",
      "79\n",
      "79\n",
      "77\n",
      "77\n",
      "79\n",
      "84\n",
      "83\n",
      "85\n",
      "81\n",
      "82\n",
      "84\n",
      "87\n",
      "78\n",
      "79\n",
      "82\n",
      "83\n"
     ]
    }
   ],
   "source": [
    "temp={}\n",
    "temp={'Day1':85,'Day2':88,'Day3':88,'Day4':89,'Day5':87,'Day6':81,'Day7':76,'Day8':80,'Day9':79,'Day10':80,'Day11':84,'Day12':76,'Day13':78,'Day14':79,'Day15':79,'Day16':79,'Day17':77,'Day18':77,'Day19':79,'Day20':84,'Day21':83,'Day22':85,'Day23':81,'Day24':82,'Day25':84,'Day26':87,'Day27':78,'Day28':79,'Day29':82,'Day30':83}\n",
    "for value in temp.values():\n",
    "    print(value)                             "
   ]
  },
  {
   "cell_type": "code",
   "execution_count": 43,
   "id": "97d9aa59",
   "metadata": {},
   "outputs": [
    {
     "name": "stdout",
     "output_type": "stream",
     "text": [
      "29.444444444444443\n",
      "31.11111111111111\n",
      "31.11111111111111\n",
      "31.666666666666668\n",
      "30.555555555555557\n",
      "27.22222222222222\n",
      "24.444444444444443\n",
      "26.666666666666668\n",
      "26.11111111111111\n",
      "26.666666666666668\n",
      "28.88888888888889\n",
      "24.444444444444443\n",
      "25.555555555555557\n",
      "26.11111111111111\n",
      "26.11111111111111\n",
      "26.11111111111111\n",
      "25.0\n",
      "25.0\n",
      "26.11111111111111\n",
      "28.88888888888889\n",
      "28.333333333333332\n",
      "29.444444444444443\n",
      "27.22222222222222\n",
      "27.77777777777778\n",
      "28.88888888888889\n",
      "30.555555555555557\n",
      "25.555555555555557\n",
      "26.11111111111111\n",
      "27.77777777777778\n",
      "28.333333333333332\n"
     ]
    }
   ],
   "source": [
    "temp={}\n",
    "temp={'Day1':85,'Day2':88,'Day3':88,'Day4':89,'Day5':87,'Day6':81,'Day7':76,'Day8':80,'Day9':79,'Day10':80,'Day11':84,'Day12':76,'Day13':78,'Day14':79,'Day15':79,'Day16':79,'Day17':77,'Day18':77,'Day19':79,'Day20':84,'Day21':83,'Day22':85,'Day23':81,'Day24':82,'Day25':84,'Day26':87,'Day27':78,'Day28':79,'Day29':82,'Day30':83}\n",
    "value=int\n",
    "for value in temp.values():\n",
    "    value=((value-32)*5)/9\n",
    "    print(value)"
   ]
  },
  {
   "cell_type": "markdown",
   "id": "526d5f5e",
   "metadata": {},
   "source": [
    "### Task 3: Dictionary with values as squares of the keys"
   ]
  },
  {
   "cell_type": "code",
   "execution_count": 90,
   "id": "0f9ffc57",
   "metadata": {},
   "outputs": [
    {
     "name": "stdout",
     "output_type": "stream",
     "text": [
      "{1: 1, 2: 4, 3: 9, 4: 16, 5: 25, 6: 36, 7: 49, 8: 64, 9: 81, 10: 100, 11: 121, 12: 144, 13: 169, 14: 196, 15: 225}\n"
     ]
    }
   ],
   "source": [
    "n={}\n",
    "for x in range(1,16):\n",
    "    n[x]=x**2\n",
    "print(n)"
   ]
  },
  {
   "cell_type": "markdown",
   "id": "835bfa36",
   "metadata": {},
   "source": [
    "### Task 4: User Profile Dictionary"
   ]
  },
  {
   "cell_type": "code",
   "execution_count": null,
   "id": "ee9720cd",
   "metadata": {},
   "outputs": [],
   "source": [
    "user_profiles={}\n",
    "prompt=(\"Enter your name, age, email, and city. Enter 'quit' to stop\")\n",
    "while True:\n",
    "    answer = input(prompt)\n",
    "    if answer == 'quit':\n",
    "        break\n",
    "    else:\n",
    "        print(prompt)\n",
    "print(user_profiles)"
   ]
  },
  {
   "cell_type": "code",
   "execution_count": null,
   "id": "023f6379",
   "metadata": {},
   "outputs": [],
   "source": []
  }
 ],
 "metadata": {
  "kernelspec": {
   "display_name": "Python 3 (ipykernel)",
   "language": "python",
   "name": "python3"
  },
  "language_info": {
   "codemirror_mode": {
    "name": "ipython",
    "version": 3
   },
   "file_extension": ".py",
   "mimetype": "text/x-python",
   "name": "python",
   "nbconvert_exporter": "python",
   "pygments_lexer": "ipython3",
   "version": "3.11.5"
  }
 },
 "nbformat": 4,
 "nbformat_minor": 5
}
